{
 "cells": [
  {
   "cell_type": "markdown",
   "id": "046fd8f8-ad14-4c7f-b759-fec52f5b5306",
   "metadata": {},
   "source": [
    "# The Price is Right\n",
    "\n",
    "Today we build a more complex solution for estimating prices of goods.\n",
    "\n",
    "1. This notebook: create a RAG database with our 400,000 training data\n",
    "2. Day 2.1 notebook: visualize in 2D\n",
    "3. Day 2.2 notebook: visualize in 3D\n",
    "4. Day 2.3 notebook: build and test a RAG pipeline with GPT-4o-mini\n",
    "5. Day 2.4 notebook: (a) bring back our Random Forest pricer (b) Create a Ensemble pricer that allows contributions from all the pricers\n",
    "\n",
    "Phew! That's a lot to get through in one day!\n",
    "\n",
    "## PLEASE NOTE:\n",
    "\n",
    "We already have a very powerful product estimator with our proprietary, fine-tuned LLM. Most people would be very satisfied with that! The main reason we're adding these extra steps is to deepen your expertise with RAG and with Agentic workflows.\n"
   ]
  },
  {
   "cell_type": "code",
   "execution_count": 2,
   "id": "993a2a24-1a58-42be-8034-6d116fb8d786",
   "metadata": {},
   "outputs": [],
   "source": [
    "# imports\n",
    "\n",
    "import os\n",
    "import re\n",
    "import math\n",
    "import json\n",
    "from tqdm import tqdm\n",
    "import random\n",
    "from dotenv import load_dotenv\n",
    "from huggingface_hub import login\n",
    "import numpy as np\n",
    "import pickle\n",
    "from sentence_transformers import SentenceTransformer\n",
    "from datasets import load_dataset\n",
    "import chromadb\n",
    "from items import Item\n",
    "from sklearn.manifold import TSNE\n",
    "import plotly.graph_objects as go"
   ]
  },
  {
   "cell_type": "code",
   "execution_count": 3,
   "id": "2359ccc0-dbf2-4b1e-9473-e472b32f548b",
   "metadata": {},
   "outputs": [],
   "source": [
    "# environment\n",
    "\n",
    "load_dotenv()\n",
    "os.environ['OPENAI_API_KEY'] = os.getenv('OPENAI_API_KEY', 'your-key-if-not-using-env')\n",
    "os.environ['HF_TOKEN'] = os.getenv('HF_TOKEN', 'your-key-if-not-using-env')\n",
    "DB = \"products_vectorstore\""
   ]
  },
  {
   "cell_type": "code",
   "execution_count": 4,
   "id": "645167e6-cf0d-42d2-949f-1089a25a2841",
   "metadata": {},
   "outputs": [
    {
     "name": "stderr",
     "output_type": "stream",
     "text": [
      "Note: Environment variable`HF_TOKEN` is set and is the current active token independently from the token you've just configured.\n"
     ]
    }
   ],
   "source": [
    "# Log in to HuggingFace\n",
    "\n",
    "hf_token = os.environ['HF_TOKEN']\n",
    "login(hf_token, add_to_git_credential=True)"
   ]
  },
  {
   "cell_type": "markdown",
   "id": "3d4995a4-f67f-4871-87df-8c6439b06366",
   "metadata": {},
   "source": [
    "## Back to the pkl files\n",
    "\n",
    "Much as we enjoyed data curating in week 6, we probably don't want to go through that whole process again!\n",
    "\n",
    "Let's reuse the pkl files we created then. Either copy the files `train.pkl` and `test.pkl` from the Week 6 folder into this Week 8 folder, or you can also download them from here:\n",
    "\n",
    "https://drive.google.com/drive/folders/1f_IZGybvs9o0J5sb3xmtTEQB3BXllzrW?usp=drive_link"
   ]
  },
  {
   "cell_type": "code",
   "execution_count": 5,
   "id": "688bd995-ec3e-43cd-8179-7fe14b275877",
   "metadata": {},
   "outputs": [],
   "source": [
    "# With train.pkl in this folder, you can run this:\n",
    "\n",
    "with open('train.pkl', 'rb') as file:\n",
    "    train = pickle.load(file)"
   ]
  },
  {
   "cell_type": "code",
   "execution_count": 6,
   "id": "2817eaf5-4302-4a18-9148-d1062e3b3dbb",
   "metadata": {},
   "outputs": [
    {
     "data": {
      "text/plain": [
       "'How much does this cost to the nearest dollar?\\n\\nDelphi FG0166 Fuel Pump Module\\nDelphi brings 80 years of OE Heritage into each Delphi pump, ensuring quality and fitment for each Delphi part. Part is validated, tested and matched to the right vehicle application Delphi brings 80 years of OE Heritage into each Delphi assembly, ensuring quality and fitment for each Delphi part Always be sure to check and clean fuel tank to avoid unnecessary returns Rigorous OE-testing ensures the pump can withstand extreme temperatures Brand Delphi, Fit Type Vehicle Specific Fit, Dimensions LxWxH 19.7 x 7.7 x 5.1 inches, Weight 2.2 Pounds, Auto Part Position Unknown, Operation Mode Mechanical, Manufacturer Delphi, Model FUEL PUMP, Dimensions 19.7\\n\\nPrice is $227.00'"
      ]
     },
     "execution_count": 6,
     "metadata": {},
     "output_type": "execute_result"
    }
   ],
   "source": [
    "train[0].prompt"
   ]
  },
  {
   "cell_type": "markdown",
   "id": "9ae1ba16-7e80-4096-ac88-64ef8edcc80c",
   "metadata": {},
   "source": [
    "# Now create a Chroma Datastore\n",
    "\n",
    "In Week 5, we created a Chroma datastore with 123 documents representing chunks of objects from our fictional company Insurellm.\n",
    "\n",
    "Now we will create a Chroma datastore with 400,000 products from our training dataset! It's getting real!\n",
    "\n",
    "Note that we won't be using LangChain, but the API is very straightforward and consistent with before.\n",
    "\n",
    "Special note: if Chroma crashes and you're a Windows user, you should try rolling back to an earlier version of the Chroma library with:  \n",
    "`!pip install chromadb==0.5.0`  \n",
    "With many thanks to student Kelly Z. for finding this out and pointing to the GitHub issue [here](https://github.com/chroma-core/chroma/issues/2513). "
   ]
  },
  {
   "cell_type": "code",
   "execution_count": 7,
   "id": "f4aab95e-d719-4476-b6e7-e248120df25a",
   "metadata": {},
   "outputs": [],
   "source": [
    "client = chromadb.PersistentClient(path=DB)"
   ]
  },
  {
   "cell_type": "code",
   "execution_count": 8,
   "id": "5f95dafd-ab80-464e-ba8a-dec7a2424780",
   "metadata": {},
   "outputs": [],
   "source": [
    "# Check if the collection exists and delete it if it does\n",
    "collection_name = \"products\"\n",
    "existing_collection_names = [collection.name for collection in client.list_collections()]\n",
    "if collection_name in existing_collection_names:\n",
    "    client.delete_collection(collection_name)\n",
    "    print(f\"Deleted existing collection: {collection_name}\")\n",
    "\n",
    "collection = client.create_collection(collection_name)"
   ]
  },
  {
   "cell_type": "markdown",
   "id": "d392ed28-203d-4e73-be87-ac1390bdf722",
   "metadata": {},
   "source": [
    "# Introducing the SentenceTransfomer\n",
    "\n",
    "The all-MiniLM is a very useful model from HuggingFace that maps sentences & paragraphs to a 384 dimensional dense vector space and is ideal for tasks like semantic search.\n",
    "\n",
    "https://huggingface.co/sentence-transformers/all-MiniLM-L6-v2\n",
    "\n",
    "It can run pretty quickly locally.\n",
    "\n",
    "Last time we used OpenAI embeddings to produce vector embeddings. Benefits compared to OpenAI embeddings:\n",
    "1. It's free and fast!\n",
    "3. We can run it locally, so the data never leaves our box - might be useful if you're building a personal RAG\n"
   ]
  },
  {
   "cell_type": "code",
   "execution_count": 9,
   "id": "a87db200-d19d-44bf-acbd-15c45c70f5c9",
   "metadata": {},
   "outputs": [
    {
     "data": {
      "application/vnd.jupyter.widget-view+json": {
       "model_id": "2908e1cdf3f648a4a17481ec98c27517",
       "version_major": 2,
       "version_minor": 0
      },
      "text/plain": [
       "modules.json:   0%|          | 0.00/349 [00:00<?, ?B/s]"
      ]
     },
     "metadata": {},
     "output_type": "display_data"
    },
    {
     "name": "stderr",
     "output_type": "stream",
     "text": [
      "C:\\Users\\nickb\\anaconda3\\envs\\llms\\Lib\\site-packages\\huggingface_hub\\file_download.py:140: UserWarning: `huggingface_hub` cache-system uses symlinks by default to efficiently store duplicated files but your machine does not support them in C:\\Users\\nickb\\.cache\\huggingface\\hub\\models--sentence-transformers--all-MiniLM-L6-v2. Caching files will still work but in a degraded version that might require more space on your disk. This warning can be disabled by setting the `HF_HUB_DISABLE_SYMLINKS_WARNING` environment variable. For more details, see https://huggingface.co/docs/huggingface_hub/how-to-cache#limitations.\n",
      "To support symlinks on Windows, you either need to activate Developer Mode or to run Python as an administrator. In order to activate developer mode, see this article: https://docs.microsoft.com/en-us/windows/apps/get-started/enable-your-device-for-development\n",
      "  warnings.warn(message)\n"
     ]
    },
    {
     "data": {
      "application/vnd.jupyter.widget-view+json": {
       "model_id": "4b35701a586d43e68c6bcbf626bff264",
       "version_major": 2,
       "version_minor": 0
      },
      "text/plain": [
       "config_sentence_transformers.json:   0%|          | 0.00/116 [00:00<?, ?B/s]"
      ]
     },
     "metadata": {},
     "output_type": "display_data"
    },
    {
     "data": {
      "application/vnd.jupyter.widget-view+json": {
       "model_id": "fa1e0c83cd7045a69191eb98db54cec6",
       "version_major": 2,
       "version_minor": 0
      },
      "text/plain": [
       "README.md:   0%|          | 0.00/10.7k [00:00<?, ?B/s]"
      ]
     },
     "metadata": {},
     "output_type": "display_data"
    },
    {
     "data": {
      "application/vnd.jupyter.widget-view+json": {
       "model_id": "fbe833a2626444d6bc9e0b68f01988e8",
       "version_major": 2,
       "version_minor": 0
      },
      "text/plain": [
       "sentence_bert_config.json:   0%|          | 0.00/53.0 [00:00<?, ?B/s]"
      ]
     },
     "metadata": {},
     "output_type": "display_data"
    },
    {
     "data": {
      "application/vnd.jupyter.widget-view+json": {
       "model_id": "1334810de6b94477a7981a2534e5938f",
       "version_major": 2,
       "version_minor": 0
      },
      "text/plain": [
       "config.json:   0%|          | 0.00/612 [00:00<?, ?B/s]"
      ]
     },
     "metadata": {},
     "output_type": "display_data"
    },
    {
     "data": {
      "application/vnd.jupyter.widget-view+json": {
       "model_id": "2946679e6549423dac1bea895e8eab71",
       "version_major": 2,
       "version_minor": 0
      },
      "text/plain": [
       "model.safetensors:   0%|          | 0.00/90.9M [00:00<?, ?B/s]"
      ]
     },
     "metadata": {},
     "output_type": "display_data"
    },
    {
     "data": {
      "application/vnd.jupyter.widget-view+json": {
       "model_id": "76d762ea17eb4e61bff3d98d33a7504c",
       "version_major": 2,
       "version_minor": 0
      },
      "text/plain": [
       "tokenizer_config.json:   0%|          | 0.00/350 [00:00<?, ?B/s]"
      ]
     },
     "metadata": {},
     "output_type": "display_data"
    },
    {
     "data": {
      "application/vnd.jupyter.widget-view+json": {
       "model_id": "e72619be37434c6d91321fe9ee71edfc",
       "version_major": 2,
       "version_minor": 0
      },
      "text/plain": [
       "vocab.txt:   0%|          | 0.00/232k [00:00<?, ?B/s]"
      ]
     },
     "metadata": {},
     "output_type": "display_data"
    },
    {
     "data": {
      "application/vnd.jupyter.widget-view+json": {
       "model_id": "7b654539ca524fc8b3fd7aeb29468348",
       "version_major": 2,
       "version_minor": 0
      },
      "text/plain": [
       "tokenizer.json:   0%|          | 0.00/466k [00:00<?, ?B/s]"
      ]
     },
     "metadata": {},
     "output_type": "display_data"
    },
    {
     "data": {
      "application/vnd.jupyter.widget-view+json": {
       "model_id": "c3cce014e84148a081ff05b97f638b04",
       "version_major": 2,
       "version_minor": 0
      },
      "text/plain": [
       "special_tokens_map.json:   0%|          | 0.00/112 [00:00<?, ?B/s]"
      ]
     },
     "metadata": {},
     "output_type": "display_data"
    },
    {
     "data": {
      "application/vnd.jupyter.widget-view+json": {
       "model_id": "4981b750efcc43d0bbdf205a4dd1c58d",
       "version_major": 2,
       "version_minor": 0
      },
      "text/plain": [
       "1_Pooling%2Fconfig.json:   0%|          | 0.00/190 [00:00<?, ?B/s]"
      ]
     },
     "metadata": {},
     "output_type": "display_data"
    }
   ],
   "source": [
    "model = SentenceTransformer('sentence-transformers/all-MiniLM-L6-v2')"
   ]
  },
  {
   "cell_type": "code",
   "execution_count": 10,
   "id": "9b23a025-4c35-4d3a-96ad-b956cad37b0a",
   "metadata": {},
   "outputs": [],
   "source": [
    "# Pass in a list of texts, get back a numpy array of vectors\n",
    "\n",
    "vector = model.encode([\"Well hi there\"])[0]"
   ]
  },
  {
   "cell_type": "code",
   "execution_count": 11,
   "id": "8adde63f-e732-4f7c-bba9-f8b2a469f14e",
   "metadata": {},
   "outputs": [
    {
     "data": {
      "text/plain": [
       "array([-9.46715996e-02,  4.27619405e-02,  5.51620163e-02, -5.10951271e-04,\n",
       "        1.16203940e-02, -6.80130124e-02,  2.76406091e-02,  6.06974959e-02,\n",
       "        2.88530421e-02, -1.74127705e-02, -4.94346581e-02,  2.30993517e-02,\n",
       "       -1.28614325e-02, -4.31402698e-02,  2.17510071e-02,  4.26548980e-02,\n",
       "        5.10499626e-02, -7.79727548e-02, -1.23247288e-01,  3.67454812e-02,\n",
       "        4.54110978e-03,  9.47937816e-02, -5.53099364e-02,  1.70641728e-02,\n",
       "       -2.92872749e-02, -4.47124466e-02,  2.06784140e-02,  6.39319792e-02,\n",
       "        2.27427762e-02,  4.87789139e-02, -2.33503175e-03,  4.72859405e-02,\n",
       "       -2.86259279e-02,  2.30624843e-02,  2.45129727e-02,  3.95681933e-02,\n",
       "       -4.33176011e-02, -1.02316640e-01,  2.79876171e-03,  2.39304341e-02,\n",
       "        1.61556359e-02, -8.99079721e-03,  2.07255669e-02,  6.40123487e-02,\n",
       "        6.89179227e-02, -6.98361248e-02,  2.89759738e-03, -8.10989663e-02,\n",
       "        1.71123035e-02,  2.50656181e-03, -1.06529079e-01, -4.87733260e-02,\n",
       "       -1.67762395e-02, -2.28662975e-02,  1.14816621e-01,  4.87412401e-02,\n",
       "       -1.64962616e-02, -6.90831095e-02,  1.13612123e-01, -7.18485713e-02,\n",
       "       -9.01570916e-02,  3.95171810e-06, -8.66769180e-02, -4.05916683e-02,\n",
       "        3.71317565e-02, -1.77618824e-02, -5.57464026e-02, -4.57097292e-02,\n",
       "       -5.43140620e-02, -4.00612243e-02, -4.60227430e-02,  2.82193571e-02,\n",
       "       -2.33606007e-02,  1.44406250e-02, -1.52777620e-02, -4.34328578e-02,\n",
       "        6.81274310e-02,  8.21894929e-02,  7.83893280e-03, -2.85972785e-02,\n",
       "        6.14309311e-02, -4.92685363e-02,  3.27054434e-03, -2.72683334e-02,\n",
       "       -4.59346622e-02, -2.60168500e-02,  5.70649989e-02, -5.86447888e-04,\n",
       "       -4.37076986e-02, -2.47833377e-04, -8.73550028e-02,  3.48776728e-02,\n",
       "        1.39327208e-02, -1.60043947e-02,  2.86958441e-02, -9.48595628e-02,\n",
       "        9.40612629e-02,  5.92685528e-02, -8.65013972e-02,  1.45011395e-01,\n",
       "        2.35388540e-02,  3.43325175e-02,  2.51521618e-04,  7.15541616e-02,\n",
       "       -3.12182121e-02,  3.86666022e-02, -2.47744843e-02,  6.52674362e-02,\n",
       "       -8.28817263e-02, -2.80247312e-02,  9.34542809e-03, -7.85540976e-03,\n",
       "        5.30727953e-02,  2.96895448e-02,  3.27329338e-02,  4.94737290e-02,\n",
       "        2.52208337e-02,  4.67068069e-02,  5.03403880e-02, -7.23745301e-02,\n",
       "        2.54435521e-02, -3.67217176e-02,  1.27569847e-02,  1.46063287e-02,\n",
       "        2.11492144e-02, -5.56909591e-02, -9.18514654e-03, -5.63395203e-34,\n",
       "        9.58770141e-02,  5.94578125e-02,  5.11445291e-02,  3.36360522e-02,\n",
       "       -1.34414984e-02, -2.77203415e-02, -3.48436087e-02,  1.80352256e-02,\n",
       "       -2.53210999e-02,  6.73585013e-03,  5.47840595e-02, -3.60574424e-02,\n",
       "       -5.20870686e-02, -2.90345233e-02,  4.38966090e-03,  6.50022775e-02,\n",
       "        3.07486095e-02,  2.00220924e-02,  1.73038431e-03,  2.96723633e-03,\n",
       "        3.40953353e-03, -6.78145438e-02,  3.41304243e-02,  8.37869104e-03,\n",
       "        5.39905094e-02,  2.70389840e-02,  7.84120113e-02, -1.30136251e-01,\n",
       "        4.84650247e-02,  5.14179617e-02, -7.94680044e-03,  5.57886204e-03,\n",
       "       -5.31026013e-02,  3.81299555e-02, -3.05513293e-02, -7.69778714e-02,\n",
       "        1.20531088e-02, -4.08993103e-02, -8.69358480e-02,  6.38056025e-02,\n",
       "        1.68675333e-02,  1.68733916e-03,  6.28894269e-02, -1.67711731e-02,\n",
       "        2.15586387e-02,  7.10085791e-04,  2.81037949e-03, -8.89792480e-03,\n",
       "       -1.80887114e-02, -2.16216836e-02, -5.59150279e-02,  1.78773776e-02,\n",
       "       -9.27093476e-02,  7.27912132e-03, -1.27753586e-01, -4.86937501e-02,\n",
       "        1.45871695e-02, -1.62751321e-02,  6.75622597e-02,  3.87702323e-02,\n",
       "        7.23295286e-02,  9.14991722e-02, -9.65291262e-02,  4.84791622e-02,\n",
       "       -1.06274188e-01, -1.05042038e-02,  8.90350342e-02, -8.07525516e-02,\n",
       "        7.87081793e-02, -2.04917714e-02, -5.55080771e-02, -3.31532322e-02,\n",
       "       -2.14429963e-02,  4.94700670e-02, -7.05118999e-02,  6.63997903e-02,\n",
       "        7.39671513e-02, -2.70123966e-03,  1.62262265e-02, -3.98229323e-02,\n",
       "        5.94092347e-02, -7.14363251e-03, -3.33479606e-02,  2.30419859e-02,\n",
       "        1.87186021e-02, -6.15725182e-02, -8.55339982e-04, -1.05786614e-01,\n",
       "       -8.43619406e-02, -3.92993726e-02, -3.16447206e-02,  6.60644248e-02,\n",
       "        9.41815898e-02, -8.35983157e-02,  9.50883329e-03,  1.25502963e-34,\n",
       "        6.38197586e-02,  2.11371277e-02, -1.65900569e-02,  1.88641809e-02,\n",
       "       -5.57019264e-02,  1.82814524e-03, -1.37587357e-02,  8.16278830e-02,\n",
       "       -9.13297459e-02,  7.06855804e-02,  6.79991394e-02, -5.44536225e-02,\n",
       "        3.80393490e-02,  3.80509184e-03,  1.03689767e-01,  7.32835557e-04,\n",
       "        2.95661371e-02,  4.19423878e-02, -1.20444365e-01,  1.24932518e-02,\n",
       "       -5.53506948e-02,  1.75228864e-02, -2.28164513e-02, -5.79299703e-02,\n",
       "        9.42929927e-03, -5.42282034e-03, -3.94941540e-03,  2.82349065e-02,\n",
       "       -1.28066882e-01, -1.31304655e-02,  7.42956847e-02, -1.74529348e-02,\n",
       "       -9.72759277e-02,  8.25621001e-03,  2.06901133e-02, -5.29768132e-03,\n",
       "       -1.37695717e-02, -3.50973681e-02,  1.74977817e-02, -1.76233295e-02,\n",
       "       -6.50824979e-02, -3.84675860e-02, -8.76397267e-02,  3.21292691e-02,\n",
       "        2.55019916e-03, -2.09378786e-02,  5.55309542e-02,  2.57095285e-02,\n",
       "       -2.94735450e-02,  1.25047732e-02, -6.83466569e-02, -8.00623968e-02,\n",
       "       -1.46906525e-02,  1.03744576e-02, -8.51863176e-02, -1.10538704e-02,\n",
       "        2.14596689e-02,  4.08609323e-02,  3.31645980e-02, -2.76757255e-02,\n",
       "       -2.01877095e-02,  8.98881536e-03,  3.92048620e-02,  1.15103289e-01,\n",
       "        5.50441630e-02,  2.72754971e-02, -1.09526739e-01, -1.72623489e-02,\n",
       "        1.33437794e-02, -1.73702128e-02, -5.04373200e-03, -2.00292338e-02,\n",
       "        1.16672404e-01, -1.84322353e-02,  3.70627977e-02,  1.60886049e-02,\n",
       "        3.48830968e-02,  5.50574511e-02, -6.60796696e-03,  7.06828684e-02,\n",
       "        4.07849737e-02, -1.43314404e-02, -2.85445130e-03,  2.74251904e-02,\n",
       "       -4.26769182e-02,  1.26583520e-02,  3.34343240e-02,  1.62644349e-02,\n",
       "        1.19263250e-02, -2.92119831e-02,  2.73977928e-02,  3.44304107e-02,\n",
       "        2.52832267e-02,  3.07514314e-02,  3.22557501e-02, -1.74628507e-08,\n",
       "       -1.52690858e-02,  5.37676504e-03,  1.41246572e-01,  5.08366935e-02,\n",
       "        5.32256067e-02,  9.67938229e-02,  4.33675088e-02, -6.48312364e-03,\n",
       "        1.58604011e-02,  4.05631326e-02,  6.94985017e-02,  6.04905523e-02,\n",
       "       -6.26189709e-02, -3.96144390e-02,  1.10648908e-01,  1.67736020e-02,\n",
       "       -7.68688507e-03,  2.59615388e-02, -5.28793149e-02, -2.22318601e-02,\n",
       "        1.74596533e-02,  4.75339741e-02,  3.27674635e-02, -4.59685326e-02,\n",
       "        2.01770570e-02, -1.60875730e-02, -1.58613473e-02, -1.66658219e-02,\n",
       "       -3.05246748e-02, -3.87907773e-02, -1.27654187e-02,  6.57611042e-02,\n",
       "       -2.22503319e-02, -9.44985449e-03,  2.32080314e-02,  2.66038831e-02,\n",
       "        2.14202981e-02, -7.54580135e-03,  8.84752497e-02, -9.43514183e-02,\n",
       "       -5.74870259e-02, -7.77097717e-02,  1.95791177e-03, -1.50347501e-02,\n",
       "       -8.08498170e-03,  1.88217741e-02,  8.42520036e-03, -3.78591605e-02,\n",
       "        1.24534536e-02, -7.94996172e-02, -2.15790626e-02,  1.20276231e-02,\n",
       "        1.74870417e-02,  8.74479190e-02,  6.64091483e-02,  3.13736796e-02,\n",
       "       -1.00628268e-02,  2.07700953e-02, -5.20162955e-02, -8.91337544e-03,\n",
       "        1.48542315e-01, -2.51265499e-03,  9.93156582e-02,  2.34929509e-02],\n",
       "      dtype=float32)"
      ]
     },
     "execution_count": 11,
     "metadata": {},
     "output_type": "execute_result"
    }
   ],
   "source": [
    "vector"
   ]
  },
  {
   "cell_type": "code",
   "execution_count": 12,
   "id": "38de1bf8-c9b5-45b4-9f4b-86af93b3f80d",
   "metadata": {},
   "outputs": [],
   "source": [
    "def description(item):\n",
    "    text = item.prompt.replace(\"How much does this cost to the nearest dollar?\\n\\n\", \"\")\n",
    "    return text.split(\"\\n\\nPrice is $\")[0]"
   ]
  },
  {
   "cell_type": "code",
   "execution_count": 13,
   "id": "8c1205bd-4692-44ef-8ea4-69f255354537",
   "metadata": {},
   "outputs": [
    {
     "data": {
      "text/plain": [
       "'Delphi FG0166 Fuel Pump Module\\nDelphi brings 80 years of OE Heritage into each Delphi pump, ensuring quality and fitment for each Delphi part. Part is validated, tested and matched to the right vehicle application Delphi brings 80 years of OE Heritage into each Delphi assembly, ensuring quality and fitment for each Delphi part Always be sure to check and clean fuel tank to avoid unnecessary returns Rigorous OE-testing ensures the pump can withstand extreme temperatures Brand Delphi, Fit Type Vehicle Specific Fit, Dimensions LxWxH 19.7 x 7.7 x 5.1 inches, Weight 2.2 Pounds, Auto Part Position Unknown, Operation Mode Mechanical, Manufacturer Delphi, Model FUEL PUMP, Dimensions 19.7'"
      ]
     },
     "execution_count": 13,
     "metadata": {},
     "output_type": "execute_result"
    }
   ],
   "source": [
    "description(train[0])"
   ]
  },
  {
   "cell_type": "code",
   "execution_count": null,
   "id": "8c79e2fe-1f50-4ebf-9a93-34f3088f2996",
   "metadata": {},
   "outputs": [],
   "source": [
    "for i in tqdm(range(0, len(train), 1000)):\n",
    "    documents = [description(item) for item in train[i: i+1000]]\n",
    "    vectors = model.encode(documents).astype(float).tolist()\n",
    "    metadatas = [{\"category\": item.category, \"price\": item.price} for item in train[i: i+1000]]\n",
    "    ids = [f\"doc_{j}\" for j in range(i, i+1000)]\n",
    "    collection.add(\n",
    "        ids=ids,\n",
    "        documents=documents,\n",
    "        embeddings=vectors,\n",
    "        metadatas=metadatas\n",
    "    )"
   ]
  },
  {
   "cell_type": "code",
   "execution_count": null,
   "id": "6979414e-ab49-4817-8f6c-5ab4938af26f",
   "metadata": {},
   "outputs": [],
   "source": []
  }
 ],
 "metadata": {
  "kernelspec": {
   "display_name": "Python 3 (ipykernel)",
   "language": "python",
   "name": "python3"
  },
  "language_info": {
   "codemirror_mode": {
    "name": "ipython",
    "version": 3
   },
   "file_extension": ".py",
   "mimetype": "text/x-python",
   "name": "python",
   "nbconvert_exporter": "python",
   "pygments_lexer": "ipython3",
   "version": "3.11.11"
  }
 },
 "nbformat": 4,
 "nbformat_minor": 5
}
